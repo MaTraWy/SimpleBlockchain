{
 "cells": [
  {
   "cell_type": "markdown",
   "metadata": {},
   "source": [
    "##  <center> <font color = 'Red'> Blockchain Based Crypto Currency </font>\n",
    "\n",
    "####  __Author__ = \"Mahmoud Matrawy\"\n",
    "The following project was created to simulate Bitcoin operations and functionality\n",
    "based on developer guide: https://www.lopp.net/pdf/Bitcoin_Developer_Reference.pdf\n",
    "feel free to contribute and add new functionality<br><br>\n",
    "Let's Build Your First coin, give it a name :D, Mine is MaTCoin"
   ]
  },
  {
   "cell_type": "code",
   "execution_count": 82,
   "metadata": {},
   "outputs": [],
   "source": [
    "from Crypto.Hash import SHA256, RIPEMD\n",
    "from Crypto.PublicKey import RSA\n",
    "from Crypto.Signature import PKCS1_v1_5\n",
    "import pprint\n",
    "from datetime import datetime"
   ]
  },
  {
   "cell_type": "markdown",
   "metadata": {},
   "source": [
    "### <font color = 'Red'> Transcation Class </font>\n",
    "A class that contain a single transaction data <br>\n",
    "#### Data fields:\n",
    "Input is a list containg a dictionary (key, value) that describes the input to the transaction, the key's described as follow:<br>\n",
    "- <font color = \"blue\">'srcHash': </font> Referance to used transaction <br>\n",
    "- <font color = \"blue\">'index': </font> Referance to which index in the used transaction <br>\n",
    "- <font color = \"blue\">'srcAddress': </font> The Address of the sender<br>\n",
    "\n",
    "Ouput is a list containg a dictionary that describes the output to the transaction, the key's described as follow:<br>\n",
    "- <font color = 'blue'>'DistAddress':</font>The address of the receiver <br>\n",
    "- <font color = 'blue'>'amount': </font>The amount of coin to be send! <br>\n",
    "\n",
    "__i.e <the used transaction__:> is the transaction that prove that the sender has coins<br><br>\n"
   ]
  },
  {
   "cell_type": "code",
   "execution_count": 83,
   "metadata": {},
   "outputs": [],
   "source": [
    "class Transaction:\n",
    "\n",
    "    # class constructor, remember each transaction contain array of inputs and outputs\n",
    "    def __init__(self, input, output):\n",
    "        self.input = input \n",
    "        self.output = output\n",
    "\n",
    "    # calculate the double hash of the transaction data\n",
    "    def calcTransactionHash(self):\n",
    "        s = b\"\"  # this define empty array of bytes, b stand for byte!\n",
    "        for x in self.input:\n",
    "            s = s + bytes.fromhex(x['srcHash']) + bytes(x['index']) + bytes.fromhex(x['srcAddress'])  # concat inputs\n",
    "        for y in self.output:\n",
    "            s = s + bytes(y['amount']) + bytes.fromhex(y['DistAddress'])\n",
    "            \n",
    "        return SHA256.new(\n",
    "            SHA256.new(s).digest()).digest()  # .digest(), return hash as array of bytes\n",
    "\n",
    "    # Get amount of coin for specific output index\n",
    "    def getIndexAmount(self, index):\n",
    "        return (self.output[index])['amount']\n",
    "\n",
    "    # Print the transaction data\n",
    "    def printTransactionData(self):\n",
    "        pprint.pprint({'input ': self.input})\n",
    "        pprint.pprint({'output': self.output})\n",
    "\n",
    "    # Get data of transaction for further print, used to print block with transaction\n",
    "    def getPrintData(self):\n",
    "        return {'Transaction Hash': self.calcTransactionHash().hex(),\n",
    "                'TransactionData': {'input': self.input, 'output': self.output}}"
   ]
  },
  {
   "cell_type": "code",
   "execution_count": 84,
   "metadata": {},
   "outputs": [
    {
     "name": "stdout",
     "output_type": "stream",
     "text": [
      "{'input ': [{'srcHash': '0000', 'srcAddress': '0000', 'index': 0}]}\n",
      "{'output': [{'DistAddress': '0000', 'amount': 50}]}\n"
     ]
    }
   ],
   "source": [
    "tranInput = [{\"srcHash\":\"0000\",\"srcAddress\":\"0000\",\"index\":0},]\n",
    "tranOutput = [{\"DistAddress\":\"0000\",\"amount\":50},]\n",
    "transactionTest = Transaction(tranInput,tranOutput)\n",
    "transactionTest.printTransactionData()"
   ]
  },
  {
   "cell_type": "code",
   "execution_count": 85,
   "metadata": {},
   "outputs": [
    {
     "name": "stdout",
     "output_type": "stream",
     "text": [
      "09638bc4680999640f3a19965be6cd0b1be1517ab3322af05b1d009697727475\n"
     ]
    }
   ],
   "source": [
    "tranHash = transactionTest.calcTransactionHash().hex()\n",
    "print(tranHash)"
   ]
  },
  {
   "cell_type": "markdown",
   "metadata": {},
   "source": [
    "### <font color = 'Red'>Block Class\n",
    "A class that contain a single block data <br>\n",
    "#### Data fields:\n",
    "- <font color = 'blue'>nonce: </font> A value that is set by Proof of work algorithm, to solve puzzle <br>\n",
    "- <font color = 'blue'>tstamp: </font> The time at which this block created <br>\n",
    "- <font color = 'blue'>transactionList: </font> A list that contain transaction exsists in this block<br>\n",
    "- <font color = 'blue'>transactionNumber: </font> The number of transaction in the block<br>\n",
    "- <font color = 'blue'>prevhash: </font> The hash of prev block, used for chaining<br>\n",
    "- <font color = 'blue'>target: </font> A value that define the difficulty of the puzzle<br>\n",
    "- <font color = 'blue'>hash: </font> The has of current block<br>"
   ]
  },
  {
   "cell_type": "code",
   "execution_count": 86,
   "metadata": {},
   "outputs": [],
   "source": [
    "class Block:\n",
    "    def __init__(self, nonce, tstamp, transactionList, prevhash, target):\n",
    "        self.nonce = nonce\n",
    "        self.tstamp = tstamp\n",
    "        self.transactionList = transactionList\n",
    "        self.transactionNumber = len(transactionList)\n",
    "        self.calcMerkleTree()\n",
    "        self.prevhash = prevhash\n",
    "        self.target = target\n",
    "        self.calcHash()\n",
    "\n",
    "    # Calculate a hash of a block\n",
    "    def calcHash(self):\n",
    "        # concatenating all the data for calculate hash\n",
    "        blockString = (bytes.fromhex(self.prevhash)\n",
    "                       + bytes.fromhex(self.merkleTree)\n",
    "                       + self.tstamp.encode()\n",
    "                       + bytes(self.target)\n",
    "                       + bytes(self.nonce)\n",
    "                       + bytes(self.transactionNumber))  # remember that out goal to create array of bytes\n",
    "\n",
    "        self.hash = SHA256.new(blockString).hexdigest()\n",
    "        return self.hash\n",
    "\n",
    "    # Calculate merkle tree of transactions in a block\n",
    "    def calcMerkleTree(self):\n",
    "        # hash list contain hash's of all transaction in block\n",
    "        hashList = [tran.calcTransactionHash() for tran in self.transactionList]\n",
    "        self.merkleTree = self.merkle(hashList).hex()  # .hex() convert array of bytes to string of hex!\n",
    "\n",
    "    def merkle(self, hashList):\n",
    "        if len(hashList) == 1:\n",
    "            return hashList[0]\n",
    "        newHashList = []\n",
    "        for i in range(0, len(hashList) - 1, 2):\n",
    "            newHashList.append(self.HashPair(hashList[i], hashList[i + 1]))\n",
    "        if len(hashList) % 2 == 1:  # odd, hash last item twice\n",
    "            newHashList.append(self(hashList[-1], hashList[-1]))\n",
    "        return self.merkle(newHashList)\n",
    "\n",
    "    def HashPair(self, a, b):\n",
    "        return SHA256.new(SHA256.new(a + b).digest()).digest()\n",
    "\n",
    "    def printBlockData(self):\n",
    "        dict = {\n",
    "            \"BlockHash\": self.hash,\n",
    "            'MerkleTreeHash': self.merkleTree,\n",
    "            'prevHash': self.prevhash,\n",
    "            'Target': self.target,\n",
    "            'Timestamp': self.tstamp,\n",
    "            'TransactionNumbers': self.transactionNumber,\n",
    "            'Transactions List': [tran.getPrintData() for tran in self.transactionList],\n",
    "        }\n",
    "        pprint.pprint(dict)"
   ]
  },
  {
   "cell_type": "code",
   "execution_count": 87,
   "metadata": {},
   "outputs": [
    {
     "name": "stdout",
     "output_type": "stream",
     "text": [
      "04/12/201918:39:28\n"
     ]
    }
   ],
   "source": [
    "currentTime = datetime.now().strftime(\"%m/%d/%Y%H:%M:%S\")\n",
    "print(currentTime)"
   ]
  },
  {
   "cell_type": "code",
   "execution_count": 88,
   "metadata": {},
   "outputs": [],
   "source": [
    "tranInput = [{\"srcHash\":\"0000\",\"srcAddress\":\"0000\",\"index\":0},]\n",
    "tranOutput = [{\"DistAddress\":\"0000\",\"amount\":50},]\n",
    "transactionOne = Transaction(tranInput,tranOutput)\n",
    "transactionTwo = Transaction(tranInput,tranOutput)\n",
    "block = Block(0,currentTime,[transactionOne,transactionTwo],'0000',2)"
   ]
  },
  {
   "cell_type": "code",
   "execution_count": 89,
   "metadata": {},
   "outputs": [
    {
     "name": "stdout",
     "output_type": "stream",
     "text": [
      "{'BlockHash': 'e9f7cec1beef75e9cb427fd7bcea118c417cc50dc89ece048a567f4918a3df76',\n",
      " 'MerkleTreeHash': '6e15a0ab60c17899d24c437875670496a2c998e8c3cff520299552223254a6e4',\n",
      " 'prevHash': '0000',\n",
      " 'Target': 2,\n",
      " 'Timestamp': '04/12/201918:39:28',\n",
      " 'TransactionNumbers': 2,\n",
      " 'Transactions List': [{'Transaction Hash': '09638bc4680999640f3a19965be6cd0b1be1517ab3322af05b1d009697727475',\n",
      "                        'TransactionData': {'input': [{'srcHash': '0000',\n",
      "                                                       'srcAddress': '0000',\n",
      "                                                       'index': 0}],\n",
      "                                            'output': [{'DistAddress': '0000',\n",
      "                                                        'amount': 50}]}},\n",
      "                       {'Transaction Hash': '09638bc4680999640f3a19965be6cd0b1be1517ab3322af05b1d009697727475',\n",
      "                        'TransactionData': {'input': [{'srcHash': '0000',\n",
      "                                                       'srcAddress': '0000',\n",
      "                                                       'index': 0}],\n",
      "                                            'output': [{'DistAddress': '0000',\n",
      "                                                        'amount': 50}]}}]}\n"
     ]
    }
   ],
   "source": [
    "block.printBlockData()"
   ]
  },
  {
   "cell_type": "markdown",
   "metadata": {},
   "source": [
    "### <font color = 'Red'> Blockchain Class </font>\n",
    "A class that contain a blockchain data <br>\n",
    "#### Data fields:\n",
    "- <font color = 'blue'>blockchain: </font> List that containing all the blocks <br>\n",
    "- <font color = 'blue'>peers: </font> List that containing all the peers using this blockchain <br>\n",
    "\n",
    " ##### def calcGensisBlock(self, listOfAddress, peers)<br>\n",
    " - <font color = 'blue'>listOfAddress</font> is a list of dictionary where will be used in gensis transaction<br>\n",
    " \n",
    "     - <font color = 'Green'> 'amount' </font> amount of coin to be send to specific address\n",
    "     - <font color = 'Green'> 'address' </font> the address where the coin will be sent to\n",
    " \n",
    " - <font color = 'blue'>peers</font> contain list of peers correspond to address in listOfAddress, to add the __utxo__"
   ]
  },
  {
   "cell_type": "code",
   "execution_count": 90,
   "metadata": {},
   "outputs": [],
   "source": [
    "class Blockchain:\n",
    "\n",
    "    def __init__(self):\n",
    "        self.blockchain = []\n",
    "        self.peers = []\n",
    "\n",
    "    # Gensis block, is the initial block that contain initial transaction !\n",
    "    def calcGensisBlock(self, listOfAddress, peers):\n",
    "        listOfTransaction = []\n",
    "        for address in listOfAddress:\n",
    "            listOfTransaction.append(\n",
    "                Transaction([{'srcHash': '00', 'index': 0, 'srcAddress': '00'}, ]  # 00 equivalent to null\n",
    "                            ,\n",
    "                            [{'amount': address['amount'], 'DistAddress': address['address']}, ]))\n",
    "\n",
    "        gensisBlock = Block(0, '2012/8/5', listOfTransaction, '00', 0)  # first block created was in  2012\n",
    "        gensisBlock.calcHash()\n",
    "        self.blockchain.append(gensisBlock)  # Add the gensis block to blockchain\n",
    "        i = 0\n",
    "        for i in range(0, len(peers)):  # Update the utxo(unspend transaction output)\n",
    "            peers[i].utxo.append({'transaction': listOfTransaction[i], 'index': 0})\n",
    "            i = i + 1\n",
    "\n",
    "    # function to print all the block data in the blockchain\n",
    "    def printBlockData(self):\n",
    "        for block in self.blockchain:  # loop thorugh blockchain and print each block data\n",
    "            block.printBlockData()\n",
    "\n",
    "    # function to print all the transaction in the blockchain without block data\n",
    "    def printAllTransaction(self):\n",
    "        list = []\n",
    "        for block in self.blockchain:\n",
    "            for transaction in block.transactionList:\n",
    "                fromm = transaction.input[0][\"srcAddress\"]  # to know transaction sender\n",
    "                to = ', '.join([self.resolveAddress(output['DistAddress']) + output['DistAddress'] for output in\n",
    "                                transaction.output])  # to know the receiver\n",
    "                amount = ', '.join(\n",
    "                    [str(output['amount']) for output in transaction.output])  # amount of money send to each receiver\n",
    "                list.append({\"Transaction Hash: \": transaction.calcTransactionHash().hex(),\n",
    "                             \"From Address \": self.resolveAddress(fromm) + \" \" + fromm,\n",
    "                             \"To Address\": to, \"Amount\": amount})\n",
    "        return list\n",
    "\n",
    "    # function take address and return user name!\n",
    "    def resolveAddress(self, address):\n",
    "        if address == \"00\":\n",
    "            return \"Gensis\"\n",
    "        if address == \"0000\":\n",
    "            return \"Reward\"\n",
    "        for peer in self.peers:\n",
    "            if (self.peers[peer].address.hex() == address):\n",
    "                return peer\n",
    "        return 'unknown'\n"
   ]
  },
  {
   "cell_type": "markdown",
   "metadata": {},
   "source": [
    "### <font color = 'Red'> Peer Class </font>\n",
    "A class that contain a peer data, a peer is the person who uses this crypto currency system! <br>\n",
    "#### Data fields:\n",
    "- <font color = 'blue'>rsaKey </font> Contain the rsa public and private key <br>\n",
    "- <font color = 'blue'>address </font> The address of the current actor <br>\n",
    "- <font color = 'blue'>blockchain </font> Contain an instance of the blockchain <br>\n",
    "- <font color = 'blue'>utxo </font> List of dictionary that contain unspend transaction information <br>\n",
    "    - <font color = 'green'> 'transaction' </font> Contain an object from the transaction\n",
    "    - <font color = 'green'> 'index' </font> Index of output in the transaction\n"
   ]
  },
  {
   "cell_type": "code",
   "execution_count": 91,
   "metadata": {},
   "outputs": [],
   "source": [
    "class Actor:\n",
    "    ''' parameters\n",
    "    fileName : contain  the path to pem of the user\n",
    "    blockchain : contain the main object of blockchain '''\n",
    "\n",
    "    #constructor!,\n",
    "    #   take filename: the name of the Pem file (where i save my key pair)\n",
    "    #   blockchain:    an instance of the main blockchain\n",
    "    def __init__(self, fileName, blockchain):\n",
    "        f = open(fileName, 'r')  # open the file\n",
    "        self.rsaKey = RSA.importKey(f.read())  # using RSA module to import kye from pem\n",
    "        self.address = RIPEMD.new(self.rsaKey.publickey().exportKey()).digest()  # address is hash 160 of public key\n",
    "        self.amount = 0  # init amount of coin to 0\n",
    "        self.blockchain = blockchain  # assign blockchain object\n",
    "        self.utxo = []  # utxo is empty now\n",
    "        f.close()  # close pem file\n",
    "\n",
    "    # function to calculate amount of money for a user through the utxo\n",
    "    def CalcAmount(self):\n",
    "        self.amount = 0\n",
    "        for raw in self.utxo:  # loop through the user utxo and calc amount\n",
    "            self.amount += raw['transaction'].getIndexAmount(raw['index'])\n",
    "\n",
    "    # send coin function\n",
    "    ''' parameters\n",
    "        to : object of the receiver (instance from Actor)\n",
    "        Amount : amount of coin you want to send to receiver '''\n",
    "\n",
    "    def SendCoin(self, to, Amount):\n",
    "        \n",
    "        if len(self.utxo) == 0:  # check the utxخ if empty, then he don't have coin!\n",
    "            print('Address: ', self.address.hex(), \" do not have coins\")\n",
    "            return None\n",
    "        \n",
    "        listOfInput = []\n",
    "        count = 0  # counter to know value for every input transaction\n",
    "        # 3la 7sb b2a, mmoken ast5dm aktr mn input, 3shan msln lw input wa7d  mmoken mekfesh el coin el feh\n",
    "        for raw in self.utxo:  # hna 3mel array a7ot feha hash, amount, index\n",
    "            tran = raw['transaction']\n",
    "            index = raw['index']\n",
    "            \n",
    "            count += tran.getIndexAmount(index)\n",
    "            # here i define the input of the transaction\n",
    "            listOfInput.append(\n",
    "                {'srcHash': tran.calcTransactionHash().hex(), 'index': index, 'srcAddress': self.address.hex()})\n",
    "            \n",
    "            if count >= Amount:  # here break because count is grater than amount to be send\n",
    "                break\n",
    "\n",
    "        if (count < Amount):  # here the coin is not enough\n",
    "            print('Address: ', self.address, \" coins is not enough\")\n",
    "            return None\n",
    "\n",
    "        diff = count - Amount  # calculate the diff\n",
    "        \n",
    "        newTransaction = Transaction(listOfInput, [\n",
    "            {\"amount\": (Amount), \"DistAddress\": to.address.hex()}])  # define output of transaction\n",
    "\n",
    "        self.utxo = self.utxo[len(listOfInput)::]  # remove used transaction from utxo\n",
    "        \n",
    "        if count != Amount:  # here make new  transaction and assign diff to the sender again\n",
    "            newTransaction.output.append({'amount': diff, 'DistAddress': self.address.hex()})\n",
    "            self.utxo.append({'transaction': newTransaction, 'index': 1})  # hard coded :(\n",
    "\n",
    "        to.utxo.append({'transaction': newTransaction, 'index': 0})\n",
    "\n",
    "        # here update the balance for each send and receiver\n",
    "        to.CalcAmount()\n",
    "        self.CalcAmount()\n",
    "        return newTransaction  # when done return the new transaction for mining later\n",
    "    \n",
    "\n",
    "    #Function to return balance for specific address, another way to calculate balance\n",
    "    #By itterating through all transactions.\n",
    "    ''' parameters\n",
    "            address : address of actor to want to know his balance '''\n",
    "\n",
    "    def getAddressCoin(self, address):\n",
    "        addressBalance = 0  # counter for knowing the balance\n",
    "        \n",
    "        # el fekra lma 2l2eh sender hashel mno, lw l2to receiver hadef 3leh\n",
    "        isSource = False  # isSource to know if he is sender if speceific transaction\n",
    "\n",
    "        for block in self.blockchain.blockchain:\n",
    "            for transaction in block.transactionList:  # loop in every transaction\n",
    "                # here we check if he is sender for this transaction\n",
    "                if transaction.input[0][\"srcAddress\"] == address:\n",
    "                    isSource = True\n",
    "                # loop through the output of the transaction\n",
    "                for output in transaction.output:\n",
    "                    # check if he is sender and output address not his address\n",
    "                    if isSource and output['DistAddress'] != address:\n",
    "                        addressBalance -= output['amount']  # subtract from his balance\n",
    "                        \n",
    "                    # check if he is not sender and output address is his address\n",
    "                    if not isSource and output['DistAddress'] == address:\n",
    "                        addressBalance += output['amount']\n",
    "\n",
    "            isSource = False  # when done loop trough transaction output, make isSource false again\n",
    "\n",
    "        return addressBalance  # finally return the balance\n",
    "\n",
    "    # A function to return all the transaction for the user he involved in !\n",
    "    def getUserTransaction(self):\n",
    "        listOfTran = []  # list of transaction he involved in ( swa2 b2a sender or receiver)\n",
    "\n",
    "        for block in self.blockchain.blockchain:\n",
    "            for transaction in block.transactionList:  # loop through all the transaction\n",
    "                # if he is the sender add the transaction in list and continue\n",
    "                if transaction.input[0][\"srcAddress\"] == self.address.hex():\n",
    "                    listOfTran.append(transaction)\n",
    "                    continue\n",
    "                # loop thorugh the output, to check wheater if his address exsist or not\n",
    "                for output in transaction.output:\n",
    "                    # if found the address, add transaction to lsit and break, to continue checking other transaction\n",
    "                    if output[\"DistAddress\"] == self.address.hex():\n",
    "                        listOfTran.append(transaction)\n",
    "                        break\n",
    "\n",
    "        return listOfTran  # return list contain the transaction\n",
    "\n",
    "    # function to get user data in a printable format\n",
    "    def getUserData(self):\n",
    "        self.CalcAmount()\n",
    "        return {\"Public key: \": (self.rsaKey.publickey().exportKey()[27::])[:-25].hex(),\n",
    "                \"Private key: \": (self.rsaKey.exportKey()[32::])[:-30].hex(),\n",
    "                \"Coin address:\": self.address.hex(),\n",
    "                \"Amount \": self.amount,\n",
    "                \"Transaction UTXO\": [tran['transaction'].calcTransactionHash().hex() for tran in self.utxo]}\n"
   ]
  },
  {
   "cell_type": "code",
   "execution_count": 92,
   "metadata": {},
   "outputs": [],
   "source": [
    "mainBlockchain = Blockchain()\n",
    "Alice = Actor('alice.pem', mainBlockchain)\n",
    "Bob = Actor('bob.pem', mainBlockchain)\n",
    "\n",
    "listOfGensisTransaction = [{'amount': 50, 'address': Alice.address.hex()},\n",
    "                           {'amount': 150, 'address': Bob.address.hex()}]\n",
    "mainBlockchain.calcGensisBlock(listOfGensisTransaction, [Alice, Bob])"
   ]
  },
  {
   "cell_type": "code",
   "execution_count": 93,
   "metadata": {},
   "outputs": [
    {
     "name": "stdout",
     "output_type": "stream",
     "text": [
      "{'Public key: ': '4d494942496a414e42676b71686b6947397730424151454641414f43415138414d49494243674b434151454171796f776959365948664a727a58496970364c570a6f78564a77485963584d5245424b305051346f71625a4970775772416c624e6d30684f2f6d56755858537655667445617a734f31784e6341373279764d734c550a4e4362427655454e4f46514568755841733568714c412b374d3830525061694264702f436c50614f6761636d662f654f35626f4858764b654c36734e736c75720a662f5a57576d702f456c65586b7351374e6f745470324745484e4f41372b5968786a54596958577a574a56796532546833627043396f48316444644441434d4f0a6f684b4e4744486c7746593647786d476a2f452b2b626266304952383370354b5643626f43625a554d4d69327837326d7731754b77785672706c67344e4444460a4b6975656d6265583763305a6469424643595246522f37464e596150453862634a76465865356e37753777416655753844513159716163796e4b526151326e4d0a5551494441514142',\n",
      " 'Private key: ': '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',\n",
      " 'Coin address:': '78c05a4f9444faec2de6d65227dcabc734e0d163',\n",
      " 'Amount ': 50,\n",
      " 'Transaction UTXO': ['28113e22d8430d1c45f7cb38d214fdf9e76bfd0ae80b8eb96b80e27026cc9989']}\n"
     ]
    }
   ],
   "source": [
    "pprint.pprint(Alice.getUserData())"
   ]
  },
  {
   "cell_type": "code",
   "execution_count": 94,
   "metadata": {},
   "outputs": [
    {
     "name": "stdout",
     "output_type": "stream",
     "text": [
      "Alice Address 78c05a4f9444faec2de6d65227dcabc734e0d163\n",
      "Bob Address 4d4e39d959023693be39d227c8ca403e3ae65794\n"
     ]
    }
   ],
   "source": [
    "print(\"Alice Address\",Alice.address.hex())\n",
    "print(\"Bob Address\",Bob.address.hex())"
   ]
  },
  {
   "cell_type": "code",
   "execution_count": 95,
   "metadata": {},
   "outputs": [
    {
     "name": "stdout",
     "output_type": "stream",
     "text": [
      "{'BlockHash': '952576f41cae2847df25cc77a0240a1f261d3309e47d8bfb85bd4c3ba79963c3',\n",
      " 'MerkleTreeHash': 'ecac0e12935ae2178dcb533162c54ed22514cc050b7a32d73c5c0a58f66bf076',\n",
      " 'prevHash': '00',\n",
      " 'Target': 0,\n",
      " 'Timestamp': '2012/8/5',\n",
      " 'TransactionNumbers': 2,\n",
      " 'Transactions List': [{'Transaction Hash': '28113e22d8430d1c45f7cb38d214fdf9e76bfd0ae80b8eb96b80e27026cc9989',\n",
      "                        'TransactionData': {'input': [{'srcHash': '00',\n",
      "                                                       'index': 0,\n",
      "                                                       'srcAddress': '00'}],\n",
      "                                            'output': [{'amount': 50,\n",
      "                                                        'DistAddress': '78c05a4f9444faec2de6d65227dcabc734e0d163'}]}},\n",
      "                       {'Transaction Hash': '3de0c85165d10b0f1ed7aee8e9a0e44ad06256aa251faa46abea2e01daa43555',\n",
      "                        'TransactionData': {'input': [{'srcHash': '00',\n",
      "                                                       'index': 0,\n",
      "                                                       'srcAddress': '00'}],\n",
      "                                            'output': [{'amount': 150,\n",
      "                                                        'DistAddress': '4d4e39d959023693be39d227c8ca403e3ae65794'}]}}]}\n"
     ]
    }
   ],
   "source": [
    "mainBlockchain.printBlockData()"
   ]
  },
  {
   "cell_type": "code",
   "execution_count": 96,
   "metadata": {},
   "outputs": [
    {
     "name": "stdout",
     "output_type": "stream",
     "text": [
      "50\n"
     ]
    }
   ],
   "source": [
    "print(Alice.amount)"
   ]
  },
  {
   "cell_type": "code",
   "execution_count": 97,
   "metadata": {},
   "outputs": [
    {
     "name": "stdout",
     "output_type": "stream",
     "text": [
      "{'input ': [{'srcHash': '28113e22d8430d1c45f7cb38d214fdf9e76bfd0ae80b8eb96b80e27026cc9989',\n",
      "             'index': 0,\n",
      "             'srcAddress': '78c05a4f9444faec2de6d65227dcabc734e0d163'}]}\n",
      "{'output': [{'amount': 10,\n",
      "             'DistAddress': '4d4e39d959023693be39d227c8ca403e3ae65794'},\n",
      "            {'amount': 40,\n",
      "             'DistAddress': '78c05a4f9444faec2de6d65227dcabc734e0d163'}]}\n",
      "None\n"
     ]
    }
   ],
   "source": [
    "TranSend = Alice.SendCoin(Bob, 10)\n",
    "print(TranSend.printTransactionData())"
   ]
  },
  {
   "cell_type": "markdown",
   "metadata": {},
   "source": [
    "### <font color = 'Red'> Mining Class </font>\n",
    "A class that contain a Miner data, a Miner is the person verify the transaction & solve puzzle (mathmatical) to add block! <br>\n",
    "#### Data fields:\n",
    "- <font color = \"blue\">PendingTransaction </font> A list containing pending transaction to be verified and mined <br>\n",
    "- <font color = \"blue\">Reward </font> the reward for miner after he solve the puzzle <br>\n",
    "\n",
    "#### Mining Process:\n",
    "Remmber we solved the verification problem \n"
   ]
  },
  {
   "cell_type": "code",
   "execution_count": 98,
   "metadata": {},
   "outputs": [],
   "source": [
    "class Miner(Actor):\n",
    "\n",
    "    def __init__(self, fileName, blockchain):\n",
    "        Actor.__init__(self, fileName, blockchain)\n",
    "        self.pendingTransaction = []  # list of pending transaction to be mined later\n",
    "        self.reward = 0\n",
    "\n",
    "    # Function to return balance for specific address, another way to calculate balance\n",
    "    ''' parameters\n",
    "        currentTarget : define the difficulty of mathematical puzzle '''\n",
    "\n",
    "    def Mining(self, currentTarget):\n",
    "        currentTime = datetime.now().strftime(\"%m/%d/%Y%H:%M:%S\")  # get current time!\n",
    "\n",
    "        # create new object from block for mining\n",
    "        minedBlock = Block(0, currentTime, self.pendingTransaction.copy(),\n",
    "                           self.getTopBlock().hash, currentTarget)\n",
    "\n",
    "        # adding the reward transaction!, fees for mining (The reward)\n",
    "        # src address 0000 it's a mining fee\n",
    "        minedBlock.transactionList.append(\n",
    "            Transaction([{'srcHash': '0000', 'index': 0, 'srcAddress': '0000'}, ]\n",
    "                        ,\n",
    "                        [{'amount': self.reward, 'DistAddress': self.address.hex()}, ]))\n",
    "\n",
    "        '''here in the loop every time we calculate the hash of the block and compare the leading chars \n",
    "         in the hash if they are zeros or not according to the target, for example, if target is 2, then\n",
    "          we compare the leading two char  if they are 00 or not, it yes mining done, if not, increment \n",
    "          the nonce var and then calculate the hash again, and you loop until you satisfies the condition '''\n",
    "\n",
    "        while minedBlock.hash[:currentTarget] != \"0\" * currentTarget:  # mining condition\n",
    "            minedBlock.nonce += 1\n",
    "            minedBlock.hash = minedBlock.calcHash()\n",
    "\n",
    "        print(\"Mined Successfully\")\n",
    "        self.pendingTransaction.clear()\n",
    "        self.blockchain.blockchain.append(minedBlock)\n",
    "\n",
    "    def getTopBlock(self):\n",
    "        return self.blockchain.blockchain[-1]\n",
    "\n"
   ]
  },
  {
   "cell_type": "code",
   "execution_count": 99,
   "metadata": {},
   "outputs": [],
   "source": [
    "pprint.sorted = lambda x, key=None: x\n",
    "mainBlockchain = Blockchain()\n",
    "Alice = Actor('alice.pem', mainBlockchain)\n",
    "Bob = Actor('bob.pem', mainBlockchain)\n",
    "\n",
    "listOfGensisTransaction = [{'amount': 50, 'address': Alice.address.hex()},\n",
    "                           {'amount': 150, 'address': Bob.address.hex()}]\n",
    "mainBlockchain.calcGensisBlock(listOfGensisTransaction, [Alice, Bob])"
   ]
  },
  {
   "cell_type": "code",
   "execution_count": 100,
   "metadata": {},
   "outputs": [
    {
     "name": "stdout",
     "output_type": "stream",
     "text": [
      "{'BlockHash': '952576f41cae2847df25cc77a0240a1f261d3309e47d8bfb85bd4c3ba79963c3',\n",
      " 'MerkleTreeHash': 'ecac0e12935ae2178dcb533162c54ed22514cc050b7a32d73c5c0a58f66bf076',\n",
      " 'prevHash': '00',\n",
      " 'Target': 0,\n",
      " 'Timestamp': '2012/8/5',\n",
      " 'TransactionNumbers': 2,\n",
      " 'Transactions List': [{'Transaction Hash': '28113e22d8430d1c45f7cb38d214fdf9e76bfd0ae80b8eb96b80e27026cc9989',\n",
      "                        'TransactionData': {'input': [{'srcHash': '00',\n",
      "                                                       'index': 0,\n",
      "                                                       'srcAddress': '00'}],\n",
      "                                            'output': [{'amount': 50,\n",
      "                                                        'DistAddress': '78c05a4f9444faec2de6d65227dcabc734e0d163'}]}},\n",
      "                       {'Transaction Hash': '3de0c85165d10b0f1ed7aee8e9a0e44ad06256aa251faa46abea2e01daa43555',\n",
      "                        'TransactionData': {'input': [{'srcHash': '00',\n",
      "                                                       'index': 0,\n",
      "                                                       'srcAddress': '00'}],\n",
      "                                            'output': [{'amount': 150,\n",
      "                                                        'DistAddress': '4d4e39d959023693be39d227c8ca403e3ae65794'}]}}]}\n"
     ]
    }
   ],
   "source": [
    "mainBlockchain.printBlockData()"
   ]
  },
  {
   "cell_type": "code",
   "execution_count": 101,
   "metadata": {},
   "outputs": [
    {
     "name": "stdout",
     "output_type": "stream",
     "text": [
      "{'input ': [{'srcHash': '28113e22d8430d1c45f7cb38d214fdf9e76bfd0ae80b8eb96b80e27026cc9989',\n",
      "             'index': 0,\n",
      "             'srcAddress': '78c05a4f9444faec2de6d65227dcabc734e0d163'}]}\n",
      "{'output': [{'amount': 10,\n",
      "             'DistAddress': '4d4e39d959023693be39d227c8ca403e3ae65794'},\n",
      "            {'amount': 40,\n",
      "             'DistAddress': '78c05a4f9444faec2de6d65227dcabc734e0d163'}]}\n"
     ]
    }
   ],
   "source": [
    "Mahmoud = Miner('mahmoud.pem', mainBlockchain)\n",
    "Mahmoud.reward = 2\n",
    "TranNew = Alice.SendCoin(Bob, 10)\n",
    "TranNew.printTransactionData()"
   ]
  },
  {
   "cell_type": "code",
   "execution_count": 102,
   "metadata": {},
   "outputs": [
    {
     "name": "stdout",
     "output_type": "stream",
     "text": [
      "Mined Successfully\n"
     ]
    }
   ],
   "source": [
    "Mahmoud.pendingTransaction.append(TranNew)\n",
    "Mahmoud.Mining(3)"
   ]
  },
  {
   "cell_type": "code",
   "execution_count": 103,
   "metadata": {},
   "outputs": [
    {
     "name": "stdout",
     "output_type": "stream",
     "text": [
      "{'BlockHash': '952576f41cae2847df25cc77a0240a1f261d3309e47d8bfb85bd4c3ba79963c3',\n",
      " 'MerkleTreeHash': 'ecac0e12935ae2178dcb533162c54ed22514cc050b7a32d73c5c0a58f66bf076',\n",
      " 'prevHash': '00',\n",
      " 'Target': 0,\n",
      " 'Timestamp': '2012/8/5',\n",
      " 'TransactionNumbers': 2,\n",
      " 'Transactions List': [{'Transaction Hash': '28113e22d8430d1c45f7cb38d214fdf9e76bfd0ae80b8eb96b80e27026cc9989',\n",
      "                        'TransactionData': {'input': [{'srcHash': '00',\n",
      "                                                       'index': 0,\n",
      "                                                       'srcAddress': '00'}],\n",
      "                                            'output': [{'amount': 50,\n",
      "                                                        'DistAddress': '78c05a4f9444faec2de6d65227dcabc734e0d163'}]}},\n",
      "                       {'Transaction Hash': '3de0c85165d10b0f1ed7aee8e9a0e44ad06256aa251faa46abea2e01daa43555',\n",
      "                        'TransactionData': {'input': [{'srcHash': '00',\n",
      "                                                       'index': 0,\n",
      "                                                       'srcAddress': '00'}],\n",
      "                                            'output': [{'amount': 150,\n",
      "                                                        'DistAddress': '4d4e39d959023693be39d227c8ca403e3ae65794'}]}}]}\n",
      "{'BlockHash': '000c4a88e13c76d5d98e30181d475e42b8256211d68da91b55c928c04d82693e',\n",
      " 'MerkleTreeHash': '075c16035b0af338edcb38024ed82cd0f3d444ad0344f2564b98723e55a34d17',\n",
      " 'prevHash': '952576f41cae2847df25cc77a0240a1f261d3309e47d8bfb85bd4c3ba79963c3',\n",
      " 'Target': 3,\n",
      " 'Timestamp': '04/12/201918:39:30',\n",
      " 'TransactionNumbers': 1,\n",
      " 'Transactions List': [{'Transaction Hash': '075c16035b0af338edcb38024ed82cd0f3d444ad0344f2564b98723e55a34d17',\n",
      "                        'TransactionData': {'input': [{'srcHash': '28113e22d8430d1c45f7cb38d214fdf9e76bfd0ae80b8eb96b80e27026cc9989',\n",
      "                                                       'index': 0,\n",
      "                                                       'srcAddress': '78c05a4f9444faec2de6d65227dcabc734e0d163'}],\n",
      "                                            'output': [{'amount': 10,\n",
      "                                                        'DistAddress': '4d4e39d959023693be39d227c8ca403e3ae65794'},\n",
      "                                                       {'amount': 40,\n",
      "                                                        'DistAddress': '78c05a4f9444faec2de6d65227dcabc734e0d163'}]}},\n",
      "                       {'Transaction Hash': '8a196639533cadceb8adaea27e029af464cb7d35f4845b9cac858aacb13786b3',\n",
      "                        'TransactionData': {'input': [{'srcHash': '0000',\n",
      "                                                       'index': 0,\n",
      "                                                       'srcAddress': '0000'}],\n",
      "                                            'output': [{'amount': 2,\n",
      "                                                        'DistAddress': '3cfb9a96b7f40d756b0fdc98da93abfea0df82d4'}]}}]}\n"
     ]
    }
   ],
   "source": [
    "mainBlockchain.printBlockData()"
   ]
  },
  {
   "cell_type": "code",
   "execution_count": null,
   "metadata": {},
   "outputs": [],
   "source": []
  }
 ],
 "metadata": {
  "kernelspec": {
   "display_name": "Python 3",
   "language": "python",
   "name": "python3"
  },
  "language_info": {
   "codemirror_mode": {
    "name": "ipython",
    "version": 3
   },
   "file_extension": ".py",
   "mimetype": "text/x-python",
   "name": "python",
   "nbconvert_exporter": "python",
   "pygments_lexer": "ipython3",
   "version": "3.6.8"
  }
 },
 "nbformat": 4,
 "nbformat_minor": 2
}
